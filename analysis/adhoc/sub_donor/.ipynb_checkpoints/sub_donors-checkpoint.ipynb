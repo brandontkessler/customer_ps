{
 "cells": [
  {
   "cell_type": "markdown",
   "metadata": {},
   "source": [
    "# Sub Donors\n",
    "\n",
    "The goal here is to determine total number of subscriber households, subscriber households who donated, and total donation amount by subscribers who donated."
   ]
  },
  {
   "cell_type": "code",
   "execution_count": null,
   "metadata": {},
   "outputs": [],
   "source": [
    "%reset"
   ]
  },
  {
   "cell_type": "markdown",
   "metadata": {},
   "source": [
    "## Imports"
   ]
  },
  {
   "cell_type": "code",
   "execution_count": 86,
   "metadata": {},
   "outputs": [],
   "source": [
    "import os\n",
    "import math\n",
    "import pandas as pd\n",
    "import numpy as np\n",
    "import matplotlib.pyplot as plt\n",
    "import seaborn as sns\n",
    "import datetime as dt\n",
    "\n",
    "%matplotlib inline"
   ]
  },
  {
   "cell_type": "code",
   "execution_count": 2,
   "metadata": {},
   "outputs": [],
   "source": [
    "os.chdir('/projects/customer/')"
   ]
  },
  {
   "cell_type": "markdown",
   "metadata": {},
   "source": [
    "## User Inputs"
   ]
  },
  {
   "cell_type": "code",
   "execution_count": 3,
   "metadata": {},
   "outputs": [],
   "source": [
    "first_day_of_first_fy = dt.datetime(2009, 7, 1)\n",
    "last_day_of_last_fy = dt.datetime(2019, 6, 30)"
   ]
  },
  {
   "cell_type": "markdown",
   "metadata": {},
   "source": [
    "## Import Data"
   ]
  },
  {
   "cell_type": "markdown",
   "metadata": {},
   "source": [
    "Path from cwd to raw data files"
   ]
  },
  {
   "cell_type": "code",
   "execution_count": 6,
   "metadata": {},
   "outputs": [],
   "source": [
    "path = \"data/raw/\""
   ]
  },
  {
   "cell_type": "markdown",
   "metadata": {},
   "source": [
    "Functions for data imports"
   ]
  },
  {
   "cell_type": "code",
   "execution_count": 22,
   "metadata": {},
   "outputs": [],
   "source": [
    "def subscriber_data_import(series, fy_start=10, fy_end=19, path=path + 'subs/'):\n",
    "    \"\"\"\n",
    "    This function retrieves all of the subscription files across a\\\n",
    " user determined date range and series. \n",
    "    \n",
    "    Keyword arguments:\n",
    "    series -- either 'clx' or 'pops'\n",
    "    fy_start -- earliest fiscal year in question (default 10)\n",
    "    fy_end -- last fiscal year in question (default 19)\n",
    "    path -- path to data (default 'data/raw/subs/')\n",
    "    \n",
    "    Returns:\n",
    "    df -- pandas dataframe consisting of\n",
    "    \"\"\"\n",
    "    \n",
    "    accepted_series = ['clx', 'pops']\n",
    "    \n",
    "    if series.lower() not in accepted_series:\n",
    "        raise ValueError('series must be of accepted series types: ', \n",
    "                         accepted_series)\n",
    "    \n",
    "    dataframes = []\n",
    "    for i in range(fy_start, fy_end+1):\n",
    "        file = f\"FY{i}-{series.capitalize()}.csv\"\n",
    "        tmp = pd.read_csv(path + file, encoding=\"ISO-8859-1\")\n",
    "        tmp['fy'] = i\n",
    "        dataframes.append(tmp)\n",
    "\n",
    "    df = pd.concat(dataframes, ignore_index=True)\n",
    "    \n",
    "    return df"
   ]
  },
  {
   "cell_type": "code",
   "execution_count": 7,
   "metadata": {},
   "outputs": [],
   "source": [
    "def donor_data_import(path=path):\n",
    "    donor_raw = pd.read_csv(path + \"donors_fy08-present.csv\", encoding='ISO-8859-1')\n",
    "    return donor_raw"
   ]
  },
  {
   "cell_type": "markdown",
   "metadata": {},
   "source": [
    "Import the data"
   ]
  },
  {
   "cell_type": "code",
   "execution_count": 46,
   "metadata": {},
   "outputs": [],
   "source": [
    "donor_copy = donor_data_import()"
   ]
  },
  {
   "cell_type": "code",
   "execution_count": 73,
   "metadata": {},
   "outputs": [],
   "source": [
    "subs_clx = subscriber_data_import(series='clx')\n",
    "subs_pops = subscriber_data_import(series='pops')"
   ]
  },
  {
   "cell_type": "markdown",
   "metadata": {},
   "source": [
    "## Format Data"
   ]
  },
  {
   "cell_type": "markdown",
   "metadata": {},
   "source": [
    "#### Donor Data"
   ]
  },
  {
   "cell_type": "code",
   "execution_count": 47,
   "metadata": {},
   "outputs": [],
   "source": [
    "donor_fy = donor_copy.campaign.str[3:8] # parse last 5 characters of campaign column\n",
    "donor_copy['fy'] = donor_fy # append that to a column named 'fy'"
   ]
  },
  {
   "cell_type": "markdown",
   "metadata": {},
   "source": [
    "Identify which 'fys' don't start with an integer, these we can remove. Also, identify the years that are outside of the range in question"
   ]
  },
  {
   "cell_type": "code",
   "execution_count": 48,
   "metadata": {},
   "outputs": [],
   "source": [
    "filter_fys = {fy: False for fy in donor_copy.fy.drop_duplicates()}\n",
    "for fy,boo in filter_fys.items():\n",
    "    try:\n",
    "        int(fy[0])\n",
    "        if (int(fy[3:]) > 9) & (int(fy[3:]) < 20):\n",
    "            filter_fys[fy] = True\n",
    "        else:\n",
    "            continue\n",
    "    except:\n",
    "        continue"
   ]
  },
  {
   "cell_type": "markdown",
   "metadata": {},
   "source": [
    "Map the fy column to identify rows to remove then remove them"
   ]
  },
  {
   "cell_type": "code",
   "execution_count": 52,
   "metadata": {},
   "outputs": [],
   "source": [
    "donor_copy['keep'] = donor_copy['fy'].map(filter_fys)\n",
    "donor_df = donor_copy.loc[donor_copy.keep].reset_index()\n",
    "donor_df.drop(columns=['keep'], inplace=True)"
   ]
  },
  {
   "cell_type": "markdown",
   "metadata": {},
   "source": [
    "Remove unnecessary columns"
   ]
  },
  {
   "cell_type": "code",
   "execution_count": 57,
   "metadata": {},
   "outputs": [],
   "source": [
    "donor_cols = ['summary_cust_id', 'gift_plus_pledge', 'fy']\n",
    "donor_df = donor_df[donor_cols]"
   ]
  },
  {
   "cell_type": "markdown",
   "metadata": {},
   "source": [
    "Strip FY to only include the last two digits of fiscal year"
   ]
  },
  {
   "cell_type": "code",
   "execution_count": 55,
   "metadata": {},
   "outputs": [],
   "source": [
    "donor_df['fy'] = donor_df['fy'].str[3:]"
   ]
  },
  {
   "cell_type": "markdown",
   "metadata": {},
   "source": [
    "Aggregate donor by fiscal year"
   ]
  },
  {
   "cell_type": "code",
   "execution_count": 79,
   "metadata": {},
   "outputs": [],
   "source": [
    "donor_df_aggregate = donor_df.groupby(['summary_cust_id', 'fy']).sum().reset_index()"
   ]
  },
  {
   "cell_type": "code",
   "execution_count": 87,
   "metadata": {},
   "outputs": [],
   "source": [
    "donor_df_aggregate['fy'] = np.int64(donor_df_aggregate['fy'])"
   ]
  },
  {
   "cell_type": "markdown",
   "metadata": {},
   "source": [
    "#### Subscriber Data"
   ]
  },
  {
   "cell_type": "code",
   "execution_count": 88,
   "metadata": {},
   "outputs": [],
   "source": [
    "sub_cols = ['summary_cust_id', 'fy']\n",
    "subs_clx = subs_clx[sub_cols]\n",
    "subs_pops = subs_pops[sub_cols]"
   ]
  },
  {
   "cell_type": "code",
   "execution_count": 89,
   "metadata": {},
   "outputs": [],
   "source": [
    "subs_clx = subs_clx.drop_duplicates()\n",
    "subs_pops = subs_pops.drop_duplicates()"
   ]
  },
  {
   "cell_type": "code",
   "execution_count": 90,
   "metadata": {},
   "outputs": [
    {
     "name": "stdout",
     "output_type": "stream",
     "text": [
      "(13471, 2) (8723, 2)\n"
     ]
    }
   ],
   "source": [
    "print(subs_clx.shape, subs_pops.shape)"
   ]
  },
  {
   "cell_type": "markdown",
   "metadata": {},
   "source": [
    "## Merge Data"
   ]
  },
  {
   "cell_type": "code",
   "execution_count": 94,
   "metadata": {},
   "outputs": [],
   "source": [
    "clx_merge = pd.merge(subs_clx, donor_df_aggregate, on=['summary_cust_id', 'fy'], how='left')\n",
    "pops_merge = pd.merge(subs_pops, donor_df_aggregate, on=['summary_cust_id', 'fy'], how='left')"
   ]
  },
  {
   "cell_type": "code",
   "execution_count": 99,
   "metadata": {},
   "outputs": [],
   "source": [
    "clx_merge.fillna(0, inplace=True)\n",
    "pops_merge.fillna(0, inplace=True)"
   ]
  },
  {
   "cell_type": "code",
   "execution_count": 103,
   "metadata": {},
   "outputs": [
    {
     "data": {
      "text/html": [
       "<div>\n",
       "<style scoped>\n",
       "    .dataframe tbody tr th:only-of-type {\n",
       "        vertical-align: middle;\n",
       "    }\n",
       "\n",
       "    .dataframe tbody tr th {\n",
       "        vertical-align: top;\n",
       "    }\n",
       "\n",
       "    .dataframe thead th {\n",
       "        text-align: right;\n",
       "    }\n",
       "</style>\n",
       "<table border=\"1\" class=\"dataframe\">\n",
       "  <thead>\n",
       "    <tr style=\"text-align: right;\">\n",
       "      <th></th>\n",
       "      <th>summary_cust_id</th>\n",
       "      <th>fy</th>\n",
       "      <th>gift_plus_pledge</th>\n",
       "    </tr>\n",
       "  </thead>\n",
       "  <tbody>\n",
       "    <tr>\n",
       "      <th>0</th>\n",
       "      <td>419478</td>\n",
       "      <td>10</td>\n",
       "      <td>0.0</td>\n",
       "    </tr>\n",
       "    <tr>\n",
       "      <th>1</th>\n",
       "      <td>419813</td>\n",
       "      <td>10</td>\n",
       "      <td>300.0</td>\n",
       "    </tr>\n",
       "    <tr>\n",
       "      <th>2</th>\n",
       "      <td>420202</td>\n",
       "      <td>10</td>\n",
       "      <td>100.0</td>\n",
       "    </tr>\n",
       "    <tr>\n",
       "      <th>3</th>\n",
       "      <td>420535</td>\n",
       "      <td>10</td>\n",
       "      <td>0.0</td>\n",
       "    </tr>\n",
       "    <tr>\n",
       "      <th>4</th>\n",
       "      <td>420635</td>\n",
       "      <td>10</td>\n",
       "      <td>304.0</td>\n",
       "    </tr>\n",
       "  </tbody>\n",
       "</table>\n",
       "</div>"
      ],
      "text/plain": [
       "   summary_cust_id  fy  gift_plus_pledge\n",
       "0           419478  10               0.0\n",
       "1           419813  10             300.0\n",
       "2           420202  10             100.0\n",
       "3           420535  10               0.0\n",
       "4           420635  10             304.0"
      ]
     },
     "execution_count": 103,
     "metadata": {},
     "output_type": "execute_result"
    }
   ],
   "source": [
    "clx_merge.head()"
   ]
  },
  {
   "cell_type": "code",
   "execution_count": 174,
   "metadata": {},
   "outputs": [],
   "source": [
    "def sub_donor_analysis(df):\n",
    "    \"\"\"\n",
    "    This function aggregates total subs, total subs that donate,\\\n",
    " and total donations from a dataframe. \n",
    "    \n",
    "    Keyword arguments:\n",
    "    df -- must contain three columns:\n",
    "        1) summary_cust_id\n",
    "        2) fy\n",
    "        3) gift_plus_pledge\n",
    "    \n",
    "    Returns:\n",
    "    dictionary -- a dictionary containing each fiscal year with the\\\n",
    " below structure per fiscal year:\n",
    " \n",
    "    {\n",
    "        fy: {\n",
    "            total_subs: <int>,\n",
    "            total_subs_donating: <int>,\n",
    "            percent_donating: <percent>,\n",
    "            total_given_by_subs: <int>\n",
    "        }\n",
    "    }\n",
    "    \"\"\"\n",
    "    \n",
    "    stats = {\n",
    "        'total_subs': 0,\n",
    "        'total_subs_donating': 0,\n",
    "        'percent_donating': 0,\n",
    "        'total_given_by_subs': 0\n",
    "    }\n",
    "    \n",
    "    init_dict = {fy:stats.copy() for fy in clx_merge['fy'].drop_duplicates()}\n",
    "    \n",
    "    for row in df.iterrows():\n",
    "        fy = row[1]['fy']\n",
    "        gift = row[1]['gift_plus_pledge']\n",
    "                \n",
    "        init_dict[int(fy)]['total_subs'] += 1\n",
    "        \n",
    "        if gift > 0:\n",
    "            init_dict[int(fy)]['total_subs_donating'] += 1\n",
    "            init_dict[int(fy)]['total_given_by_subs'] += gift\n",
    "\n",
    "    \n",
    "    for k,v in init_dict.items():\n",
    "        v['percent_donating'] = v['total_subs_donating'] / v['total_subs']\n",
    "        v['percent_donating'] = \"{:.1%}\".format(v['percent_donating'])\n",
    "        v['total_given_by_subs'] = \"${:,.2f}\".format(v['total_given_by_subs'])\n",
    "    \n",
    "    return init_dict"
   ]
  },
  {
   "cell_type": "code",
   "execution_count": 175,
   "metadata": {},
   "outputs": [],
   "source": [
    "clx = sub_donor_analysis(clx_merge)\n",
    "pops = sub_donor_analysis(pops_merge)"
   ]
  },
  {
   "cell_type": "code",
   "execution_count": 176,
   "metadata": {},
   "outputs": [
    {
     "data": {
      "text/html": [
       "<div>\n",
       "<style scoped>\n",
       "    .dataframe tbody tr th:only-of-type {\n",
       "        vertical-align: middle;\n",
       "    }\n",
       "\n",
       "    .dataframe tbody tr th {\n",
       "        vertical-align: top;\n",
       "    }\n",
       "\n",
       "    .dataframe thead th {\n",
       "        text-align: right;\n",
       "    }\n",
       "</style>\n",
       "<table border=\"1\" class=\"dataframe\">\n",
       "  <thead>\n",
       "    <tr style=\"text-align: right;\">\n",
       "      <th></th>\n",
       "      <th>10</th>\n",
       "      <th>11</th>\n",
       "      <th>12</th>\n",
       "      <th>13</th>\n",
       "      <th>14</th>\n",
       "      <th>15</th>\n",
       "      <th>16</th>\n",
       "      <th>17</th>\n",
       "      <th>18</th>\n",
       "      <th>19</th>\n",
       "    </tr>\n",
       "  </thead>\n",
       "  <tbody>\n",
       "    <tr>\n",
       "      <th>percent_donating</th>\n",
       "      <td>34.9%</td>\n",
       "      <td>39.4%</td>\n",
       "      <td>35.6%</td>\n",
       "      <td>36.9%</td>\n",
       "      <td>40.6%</td>\n",
       "      <td>39.4%</td>\n",
       "      <td>45.5%</td>\n",
       "      <td>45.8%</td>\n",
       "      <td>39.3%</td>\n",
       "      <td>32.7%</td>\n",
       "    </tr>\n",
       "    <tr>\n",
       "      <th>total_given_by_subs</th>\n",
       "      <td>$1,706,233.92</td>\n",
       "      <td>$2,142,963.25</td>\n",
       "      <td>$2,103,987.20</td>\n",
       "      <td>$2,499,787.97</td>\n",
       "      <td>$2,691,359.06</td>\n",
       "      <td>$1,947,364.57</td>\n",
       "      <td>$1,676,090.62</td>\n",
       "      <td>$1,793,688.57</td>\n",
       "      <td>$2,235,749.71</td>\n",
       "      <td>$1,621,558.94</td>\n",
       "    </tr>\n",
       "    <tr>\n",
       "      <th>total_subs</th>\n",
       "      <td>1254</td>\n",
       "      <td>1067</td>\n",
       "      <td>1019</td>\n",
       "      <td>981</td>\n",
       "      <td>867</td>\n",
       "      <td>720</td>\n",
       "      <td>685</td>\n",
       "      <td>694</td>\n",
       "      <td>708</td>\n",
       "      <td>728</td>\n",
       "    </tr>\n",
       "    <tr>\n",
       "      <th>total_subs_donating</th>\n",
       "      <td>438</td>\n",
       "      <td>420</td>\n",
       "      <td>363</td>\n",
       "      <td>362</td>\n",
       "      <td>352</td>\n",
       "      <td>284</td>\n",
       "      <td>312</td>\n",
       "      <td>318</td>\n",
       "      <td>278</td>\n",
       "      <td>238</td>\n",
       "    </tr>\n",
       "  </tbody>\n",
       "</table>\n",
       "</div>"
      ],
      "text/plain": [
       "                                10             11             12  \\\n",
       "percent_donating             34.9%          39.4%          35.6%   \n",
       "total_given_by_subs  $1,706,233.92  $2,142,963.25  $2,103,987.20   \n",
       "total_subs                    1254           1067           1019   \n",
       "total_subs_donating            438            420            363   \n",
       "\n",
       "                                13             14             15  \\\n",
       "percent_donating             36.9%          40.6%          39.4%   \n",
       "total_given_by_subs  $2,499,787.97  $2,691,359.06  $1,947,364.57   \n",
       "total_subs                     981            867            720   \n",
       "total_subs_donating            362            352            284   \n",
       "\n",
       "                                16             17             18  \\\n",
       "percent_donating             45.5%          45.8%          39.3%   \n",
       "total_given_by_subs  $1,676,090.62  $1,793,688.57  $2,235,749.71   \n",
       "total_subs                     685            694            708   \n",
       "total_subs_donating            312            318            278   \n",
       "\n",
       "                                19  \n",
       "percent_donating             32.7%  \n",
       "total_given_by_subs  $1,621,558.94  \n",
       "total_subs                     728  \n",
       "total_subs_donating            238  "
      ]
     },
     "execution_count": 176,
     "metadata": {},
     "output_type": "execute_result"
    }
   ],
   "source": [
    "pd.DataFrame(pops)"
   ]
  },
  {
   "cell_type": "code",
   "execution_count": null,
   "metadata": {},
   "outputs": [],
   "source": []
  }
 ],
 "metadata": {
  "kernelspec": {
   "display_name": "Python 3",
   "language": "python",
   "name": "python3"
  },
  "language_info": {
   "codemirror_mode": {
    "name": "ipython",
    "version": 3
   },
   "file_extension": ".py",
   "mimetype": "text/x-python",
   "name": "python",
   "nbconvert_exporter": "python",
   "pygments_lexer": "ipython3",
   "version": "3.7.3"
  }
 },
 "nbformat": 4,
 "nbformat_minor": 2
}
