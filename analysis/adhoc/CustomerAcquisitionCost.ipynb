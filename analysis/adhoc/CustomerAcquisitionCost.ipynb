{
 "cells": [
  {
   "cell_type": "code",
   "execution_count": 7,
   "metadata": {},
   "outputs": [],
   "source": [
    "%matplotlib inline\n",
    "\n",
    "import pandas as pd\n",
    "import numpy as np\n",
    "import datetime as dt"
   ]
  },
  {
   "cell_type": "markdown",
   "metadata": {},
   "source": [
    "## User Input"
   ]
  },
  {
   "cell_type": "code",
   "execution_count": 149,
   "metadata": {},
   "outputs": [],
   "source": [
    "fy_start = dt.datetime(2017, 7, 1) # Start of fiscal year under analysis\n",
    "fy_marketing_expenses = 2877622"
   ]
  },
  {
   "cell_type": "markdown",
   "metadata": {},
   "source": [
    "## Import Ticketing Data (3 fiscal years)"
   ]
  },
  {
   "cell_type": "code",
   "execution_count": 55,
   "metadata": {},
   "outputs": [],
   "source": [
    "# Import ticketing files\n",
    "clx = pd.concat([\n",
    "    pd.read_csv(\"../PSData/Clx18.csv\", skiprows=3),\n",
    "    pd.read_csv(\"../PSData/Clx17.csv\", skiprows=3),\n",
    "    pd.read_csv(\"../PSData/Clx16.csv\", skiprows=3)\n",
    "], ignore_index=True)\n",
    "\n",
    "pop = pd.concat([\n",
    "    pd.read_csv(\"../PSData/Pops18.csv\", skiprows=3),\n",
    "    pd.read_csv(\"../PSData/Pops17.csv\", skiprows=3),\n",
    "    pd.read_csv(\"../PSData/Pops16.csv\", skiprows=3)\n",
    "], ignore_index=True)\n",
    "\n",
    "smr = pd.concat([\n",
    "    pd.read_csv(\"../PSData/Summer18.csv\", skiprows=3),\n",
    "    pd.read_csv(\"../PSData/Summer17.csv\", skiprows=3),\n",
    "    pd.read_csv(\"../PSData/Summer16.csv\", skiprows=3)\n",
    "], ignore_index=True)\n",
    "\n",
    "spc = pd.read_csv(\"../PSData/Specials16-18.csv\", skiprows=3)\n",
    "\n",
    "oth = pd.concat([\n",
    "    pd.read_csv(\"../PSData/Chamber16-18.csv\", skiprows=3),\n",
    "    pd.read_csv(\"../PSData/Connections16-18.csv\", skiprows=3),\n",
    "    pd.read_csv(\"../PSData/Organ16-18.csv\", skiprows=3)\n",
    "], ignore_index=True)"
   ]
  },
  {
   "cell_type": "code",
   "execution_count": 56,
   "metadata": {},
   "outputs": [],
   "source": [
    "# Insert a series column\n",
    "clx.insert(0, \"series\", \"clx\")\n",
    "pop.insert(0, \"series\", \"pop\")\n",
    "smr.insert(0, \"series\", \"smr\")\n",
    "spc.insert(0, \"series\", \"spc\")\n",
    "oth.insert(0, \"series\", \"oth\")"
   ]
  },
  {
   "cell_type": "code",
   "execution_count": 57,
   "metadata": {},
   "outputs": [],
   "source": [
    "# Combine into a raw dataframe\n",
    "df_raw = pd.concat([clx, pop, smr, spc, oth], ignore_index=True)"
   ]
  },
  {
   "cell_type": "code",
   "execution_count": 58,
   "metadata": {},
   "outputs": [
    {
     "data": {
      "text/plain": [
       "523977"
      ]
     },
     "execution_count": 58,
     "metadata": {},
     "output_type": "execute_result"
    }
   ],
   "source": [
    "len(df_raw)"
   ]
  },
  {
   "cell_type": "code",
   "execution_count": 92,
   "metadata": {},
   "outputs": [],
   "source": [
    "# Create a copy of the raw dataframe to manipulate\n",
    "df_manip = df_raw.copy()"
   ]
  },
  {
   "cell_type": "markdown",
   "metadata": {},
   "source": [
    "## Format the Dataframe"
   ]
  },
  {
   "cell_type": "markdown",
   "metadata": {},
   "source": [
    "##### Remove unsold "
   ]
  },
  {
   "cell_type": "code",
   "execution_count": 93,
   "metadata": {},
   "outputs": [],
   "source": [
    "# Check if ticket was sold\n",
    "sold_ticket = df_manip['summary_cust_id'] > 0"
   ]
  },
  {
   "cell_type": "code",
   "execution_count": 94,
   "metadata": {},
   "outputs": [],
   "source": [
    "# Remove unsold tickets\n",
    "df_manip = df_manip[sold_ticket]"
   ]
  },
  {
   "cell_type": "code",
   "execution_count": 95,
   "metadata": {},
   "outputs": [
    {
     "data": {
      "text/plain": [
       "353597"
      ]
     },
     "execution_count": 95,
     "metadata": {},
     "output_type": "execute_result"
    }
   ],
   "source": [
    "len(df_manip)"
   ]
  },
  {
   "cell_type": "code",
   "execution_count": 96,
   "metadata": {},
   "outputs": [],
   "source": [
    "# Create a function to convert perf_dt to a datetime date\n",
    "def date_conv(s):\n",
    "    dates = {date:pd.to_datetime(date) for date in s.unique()}\n",
    "    return s.map(dates)"
   ]
  },
  {
   "cell_type": "code",
   "execution_count": 97,
   "metadata": {},
   "outputs": [],
   "source": [
    "# Convert perf_dt\n",
    "df_manip['perf_dt'] = date_conv(df_manip['perf_dt'])"
   ]
  },
  {
   "cell_type": "markdown",
   "metadata": {},
   "source": [
    "##### Remove old perf dates and store as df_current"
   ]
  },
  {
   "cell_type": "code",
   "execution_count": 98,
   "metadata": {},
   "outputs": [],
   "source": [
    "# Create list checking if each row contains the correct fiscal year\n",
    "is_correct_fy = df_manip['perf_dt']>=fy_start "
   ]
  },
  {
   "cell_type": "code",
   "execution_count": 99,
   "metadata": {},
   "outputs": [],
   "source": [
    "# Convert df_manip to only include rows with correct fy\n",
    "df_current = df_manip[is_correct_fy]"
   ]
  },
  {
   "cell_type": "code",
   "execution_count": 100,
   "metadata": {},
   "outputs": [
    {
     "data": {
      "text/plain": [
       "111623"
      ]
     },
     "execution_count": 100,
     "metadata": {},
     "output_type": "execute_result"
    }
   ],
   "source": [
    "len(df_current)"
   ]
  },
  {
   "cell_type": "markdown",
   "metadata": {},
   "source": [
    "##### Remove current dates and store as df_historical"
   ]
  },
  {
   "cell_type": "code",
   "execution_count": 101,
   "metadata": {},
   "outputs": [],
   "source": [
    "df_historical = df_manip[[not i for i in is_correct_fy]]"
   ]
  },
  {
   "cell_type": "code",
   "execution_count": 102,
   "metadata": {},
   "outputs": [
    {
     "data": {
      "text/plain": [
       "241974"
      ]
     },
     "execution_count": 102,
     "metadata": {},
     "output_type": "execute_result"
    }
   ],
   "source": [
    "len(df_historical)"
   ]
  },
  {
   "cell_type": "markdown",
   "metadata": {},
   "source": [
    "## Count the total number of new customers in current fiscal year"
   ]
  },
  {
   "cell_type": "code",
   "execution_count": 104,
   "metadata": {},
   "outputs": [],
   "source": [
    "historical_customers = df_historical['summary_cust_id'].unique()"
   ]
  },
  {
   "cell_type": "code",
   "execution_count": 105,
   "metadata": {},
   "outputs": [],
   "source": [
    "current_customers = df_current['summary_cust_id'].unique()"
   ]
  },
  {
   "cell_type": "markdown",
   "metadata": {},
   "source": [
    "##### Identify if customers in current_customers also exist in historical customers"
   ]
  },
  {
   "cell_type": "code",
   "execution_count": 128,
   "metadata": {},
   "outputs": [],
   "source": [
    "customers_dict = {customer:customer not in historical_customers for customer in current_customers}"
   ]
  },
  {
   "cell_type": "markdown",
   "metadata": {},
   "source": [
    "##### Isolate new customers only and assign total number of new customers to a variable"
   ]
  },
  {
   "cell_type": "code",
   "execution_count": 146,
   "metadata": {},
   "outputs": [],
   "source": [
    "new_customers_dict = {k:v for (k,v) in customers_dict.items() if v}"
   ]
  },
  {
   "cell_type": "code",
   "execution_count": 147,
   "metadata": {},
   "outputs": [],
   "source": [
    "new_customers = len(new_customers_dict)"
   ]
  },
  {
   "cell_type": "code",
   "execution_count": 148,
   "metadata": {},
   "outputs": [
    {
     "data": {
      "text/plain": [
       "8407"
      ]
     },
     "execution_count": 148,
     "metadata": {},
     "output_type": "execute_result"
    }
   ],
   "source": [
    "new_customers"
   ]
  },
  {
   "cell_type": "markdown",
   "metadata": {},
   "source": [
    "## Customer Acquisition Cost"
   ]
  },
  {
   "cell_type": "code",
   "execution_count": 151,
   "metadata": {},
   "outputs": [
    {
     "data": {
      "text/plain": [
       "342.2888069465921"
      ]
     },
     "execution_count": 151,
     "metadata": {},
     "output_type": "execute_result"
    }
   ],
   "source": [
    "# CAC using total marketing expenses\n",
    "fy_marketing_expenses / new_customers"
   ]
  }
 ],
 "metadata": {
  "kernelspec": {
   "display_name": "Python 3",
   "language": "python",
   "name": "python3"
  },
  "language_info": {
   "codemirror_mode": {
    "name": "ipython",
    "version": 3
   },
   "file_extension": ".py",
   "mimetype": "text/x-python",
   "name": "python",
   "nbconvert_exporter": "python",
   "pygments_lexer": "ipython3",
   "version": "3.7.3"
  }
 },
 "nbformat": 4,
 "nbformat_minor": 2
}
