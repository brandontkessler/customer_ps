{
 "cells": [
  {
   "cell_type": "markdown",
   "metadata": {},
   "source": [
    "# Donor Retention\n",
    "\n",
    "This file analyzes donor retention across donor levels. These levels are defined as:\n",
    "\n",
    "\n"
   ]
  },
  {
   "cell_type": "code",
   "execution_count": 641,
   "metadata": {},
   "outputs": [
    {
     "name": "stdout",
     "output_type": "stream",
     "text": [
      "Once deleted, variables cannot be recovered. Proceed (y/[n])? y\n"
     ]
    }
   ],
   "source": [
    "%reset"
   ]
  },
  {
   "cell_type": "markdown",
   "metadata": {},
   "source": [
    "### Imports"
   ]
  },
  {
   "cell_type": "code",
   "execution_count": 642,
   "metadata": {},
   "outputs": [],
   "source": [
    "import os\n",
    "import math\n",
    "import pandas as pd\n",
    "import numpy as np\n",
    "import matplotlib.pyplot as plt\n",
    "import seaborn as sns\n",
    "import datetime as dt\n",
    "\n",
    "%matplotlib inline"
   ]
  },
  {
   "cell_type": "code",
   "execution_count": 643,
   "metadata": {},
   "outputs": [],
   "source": [
    "os.chdir('/projects/customer/')"
   ]
  },
  {
   "cell_type": "markdown",
   "metadata": {},
   "source": [
    "### User Inputs"
   ]
  },
  {
   "cell_type": "code",
   "execution_count": 644,
   "metadata": {},
   "outputs": [],
   "source": [
    "first_day_of_first_fy = dt.datetime(2009, 7, 1)\n",
    "last_day_of_last_fy = dt.datetime(2019, 6, 30)"
   ]
  },
  {
   "cell_type": "markdown",
   "metadata": {},
   "source": [
    "### Import Data"
   ]
  },
  {
   "cell_type": "code",
   "execution_count": 645,
   "metadata": {},
   "outputs": [],
   "source": [
    "# Identify path from cwd to raw data files\n",
    "path = \"data/raw/\""
   ]
  },
  {
   "cell_type": "markdown",
   "metadata": {},
   "source": [
    "Function for importing donor data:"
   ]
  },
  {
   "cell_type": "code",
   "execution_count": 646,
   "metadata": {},
   "outputs": [],
   "source": [
    "def donor_data_import(path=path):\n",
    "    donor_raw = pd.read_csv(path + \"donors_fy08-present.csv\", encoding='ISO-8859-1')\n",
    "    return donor_raw"
   ]
  },
  {
   "cell_type": "markdown",
   "metadata": {},
   "source": [
    "Import donor data"
   ]
  },
  {
   "cell_type": "code",
   "execution_count": 647,
   "metadata": {},
   "outputs": [],
   "source": [
    "donor_copy = donor_data_import()"
   ]
  },
  {
   "cell_type": "markdown",
   "metadata": {},
   "source": [
    "### Format donor data appropriately"
   ]
  },
  {
   "cell_type": "markdown",
   "metadata": {},
   "source": [
    "Create new column for transaction type"
   ]
  },
  {
   "cell_type": "code",
   "execution_count": 648,
   "metadata": {},
   "outputs": [],
   "source": [
    "donor_copy = donor_copy.assign(transaction_type='donation')"
   ]
  },
  {
   "cell_type": "markdown",
   "metadata": {},
   "source": [
    "Only include necessary columns"
   ]
  },
  {
   "cell_type": "code",
   "execution_count": 649,
   "metadata": {},
   "outputs": [],
   "source": [
    "donor_cols = ['summary_cust_id', 'transaction_type', \n",
    "              'gift_plus_pledge', 'campaign', 'fund_desc']\n",
    "donor_copy = donor_copy.loc[:, donor_cols]"
   ]
  },
  {
   "cell_type": "code",
   "execution_count": 650,
   "metadata": {},
   "outputs": [],
   "source": [
    "donor_copy.columns = [\"customer_id\", \"transaction_type\", \n",
    "              \"transaction_amount\", 'campaign', 'fund_desc']"
   ]
  },
  {
   "cell_type": "markdown",
   "metadata": {},
   "source": [
    "### Add fiscal year column\n",
    "\n",
    "This is based on the campaign column that indicates"
   ]
  },
  {
   "cell_type": "code",
   "execution_count": 651,
   "metadata": {},
   "outputs": [],
   "source": [
    "donor_copy = donor_copy.reset_index(drop=True)\n",
    "donor_fy = donor_copy.campaign.str[3:8] # parse last 5 characters of campaign column\n",
    "donor_copy['fy'] = donor_fy # append that to a column named 'fy'"
   ]
  },
  {
   "cell_type": "markdown",
   "metadata": {},
   "source": [
    "Identify which 'fys' don't start with an integer, these we can remove. Also, identify the years that are outside of the range in question"
   ]
  },
  {
   "cell_type": "code",
   "execution_count": 652,
   "metadata": {},
   "outputs": [],
   "source": [
    "filter_fys = {fy: False for fy in donor_copy.fy.drop_duplicates()}\n",
    "for fy,boo in filter_fys.items():\n",
    "    try:\n",
    "        int(fy[0])\n",
    "        if (int(fy[3:]) > 9) & (int(fy[3:]) < 20):\n",
    "            filter_fys[fy] = True\n",
    "        else:\n",
    "            continue\n",
    "    except:\n",
    "        continue"
   ]
  },
  {
   "cell_type": "markdown",
   "metadata": {},
   "source": [
    "Map the fy column to identify rows to remove then remove them"
   ]
  },
  {
   "cell_type": "code",
   "execution_count": 653,
   "metadata": {
    "scrolled": true
   },
   "outputs": [],
   "source": [
    "donor_copy['keep'] = donor_copy['fy'].map(filter_fys)\n",
    "donor_df = donor_copy.loc[donor_copy.keep].reset_index()\n",
    "donor_df.drop(columns=['keep', 'transaction_type'], inplace=True)"
   ]
  },
  {
   "cell_type": "markdown",
   "metadata": {},
   "source": [
    "identify subscription add ons and create new column, drop fund_desc. This will only be used if we want to specifically isolate sub add ons to determine their retention specifically."
   ]
  },
  {
   "cell_type": "code",
   "execution_count": 654,
   "metadata": {},
   "outputs": [],
   "source": [
    "add_on = np.where(donor_df['fund_desc'] == 'PS Indiv Subscription Add On', True, False)\n",
    "donor_df['sub_add_on'] = add_on\n",
    "donor_df.drop(columns='fund_desc', inplace=True)\n",
    "tmp_fy_col = donor_df.fy.str.slice(3).astype('int32')\n",
    "donor_df.fy = tmp_fy_col"
   ]
  },
  {
   "cell_type": "markdown",
   "metadata": {},
   "source": [
    "Build dataframes to run through retention function"
   ]
  },
  {
   "cell_type": "code",
   "execution_count": 655,
   "metadata": {},
   "outputs": [],
   "source": [
    "donors_retained_df = donor_df[['customer_id','fy', 'transaction_amount']]"
   ]
  },
  {
   "cell_type": "code",
   "execution_count": 656,
   "metadata": {},
   "outputs": [],
   "source": [
    "# Get aggregate transaction amounts per customer per fiscal year\n",
    "donors_retained_df = donors_retained_df.groupby(['customer_id','fy']).sum().reset_index()"
   ]
  },
  {
   "cell_type": "markdown",
   "metadata": {},
   "source": [
    "### Build Function to Calculate Retention"
   ]
  },
  {
   "cell_type": "code",
   "execution_count": 914,
   "metadata": {},
   "outputs": [],
   "source": [
    "def calc_retention(df, tier='all', sub_add_on=False, mapper=False):\n",
    "    \"\"\"\n",
    "    This function will calculate the number of retained customers across a\\\n",
    " given time frame and within provided ranges (ex. annual giving levels\\\n",
    " between $10,000 and $50,000).\n",
    "    \n",
    "    Keyword arguments:\n",
    "    df -- must contain at least three specific columns:\n",
    "        1: customer_id\n",
    "        2: transaction_amount\n",
    "        3: fy\n",
    "        4: (optional) sub_add_on\n",
    "    tier -- results for a specific tier instead of across all tiers (default 'all')\n",
    "    sub_add_on -- include a subscription add on filter (default False)\n",
    "    mapper -- dictionary to map donor levels against. Provided mapper used if False. (default False)\n",
    "    \n",
    "    \n",
    "    Provided mapper:\n",
    "    mapper = {\n",
    "        1: (1.0, 99.99),\n",
    "        2: (100.0, 299.99),\n",
    "        3: (300.0, 499.99),\n",
    "        4: (500.0, 999.99),\n",
    "        5: (1000.0, 2499.99),\n",
    "        6: (2500.0, 4999.99),\n",
    "        7: (5000.0, 9999.99),\n",
    "        8: (10000.0, 19999.99),\n",
    "        9: (20000.0, 29999.99),\n",
    "        10: (30000.0, 49999.99),\n",
    "        11: (50000.0, 99999.99),\n",
    "        12: (100000.0, infinity)\n",
    "    }\n",
    "    \n",
    "    Returns:\n",
    "    retention_dict -- a dictionary containing retention figures for the parameters provided.\n",
    "    \"\"\"\n",
    "    \n",
    "    # Check if mapper param is provided, if not assign one.\n",
    "    if not mapper:\n",
    "        mapper = {\n",
    "            '1': (1.0, 99.99),\n",
    "            '2': (100.0, 299.99),\n",
    "            '3': (300.0, 499.99),\n",
    "            '4': (500.0, 999.99),\n",
    "            '5': (1000.0, 2499.99),\n",
    "            '6': (2500.0, 4999.99),\n",
    "            '7': (5000.0, 9999.99),\n",
    "            '8': (10000.0, 19999.99),\n",
    "            '9': (20000.0, 29999.99),\n",
    "            '10': (30000.0, 49999.99),\n",
    "            '11': (50000.0, 99999.99),\n",
    "            '12': (100000.0, math.inf)\n",
    "        }\n",
    "    \n",
    "    # Drop anything that is less than or equal to 0 for the donor level for the year\n",
    "    df = df[df.transaction_amount >= 1].reset_index(drop=True)\n",
    "    \n",
    "    # Categorize each donor at each fiscal year:\n",
    "    donor_tier = []\n",
    "    for amount in df.transaction_amount:\n",
    "        donor_tier.append(\n",
    "            [int(key) for key,val in mapper.items() if val[0] <= round(amount,2) <= val[1]][0]\n",
    "        )\n",
    "        \n",
    "    df = df.join(pd.Series(donor_tier, name='donor_tier'))\n",
    "    \n",
    "    # Build a dictionary for each fiscal year acting as the keys and a list \n",
    "    # of all customers as the value for each key.\n",
    "    fy_build = {fy:{} for fy in df['fy'].drop_duplicates()}\n",
    "\n",
    "    # Check if tier param is provided. If not, set fy_build equal to fy_all\n",
    "    #   otherwise fy_all should include everything while fy_build should\n",
    "    #   only include data from the provided tier\n",
    "    \n",
    "    if tier == 'all':\n",
    "        for index,row in df.iterrows():\n",
    "            fy_build[row[1]].update({row[0]: row[3]})\n",
    "        fy_all = fy_build.copy()\n",
    "    elif tier in range(1,13):\n",
    "        fy_all = {fy:{} for fy in df['fy'].drop_duplicates()}\n",
    "        \n",
    "        for index,row in df.iterrows():\n",
    "            fy_all[row[1]].update({row[0]: row[3]})\n",
    "            \n",
    "            if int(row[3]) == int(tier):\n",
    "                fy_build[row[1]].update({row[0]: row[3]})\n",
    "    else:\n",
    "        raise Exception(\"The 'tier' parameter must be 'all' or an integer between 1 and 12.\")\n",
    "\n",
    "    # Loop through fy_build and check how many customers are retained from the\n",
    "    # previous year and how many are new.\n",
    "    \n",
    "    # Initialize retention dict\n",
    "    initialized_dict_fy = {fy: 0 for fy in df['fy'].drop_duplicates()}\n",
    "    retention_dict = {\n",
    "        'retained': initialized_dict_fy.copy(),\n",
    "        'upgraded': initialized_dict_fy.copy(),\n",
    "        'downgraded': initialized_dict_fy.copy(),\n",
    "        'new': initialized_dict_fy.copy(),\n",
    "        'total': initialized_dict_fy.copy()\n",
    "    }\n",
    "   \n",
    "    \n",
    "    for k,v in fy_build.items():\n",
    "        if k == 10:\n",
    "            total_donors = len(v)\n",
    "            retention_dict['total'][k] += total_donors\n",
    "            continue\n",
    "        \n",
    "        total_donors = len(v)\n",
    "        \n",
    "        # Initialize new, retained, upgraded, downgraded\n",
    "        new_donors = 0\n",
    "        retained_donors = 0\n",
    "        upgraded_donors = 0\n",
    "        downgraded_donors = 0\n",
    "        \n",
    "        # check if donor existed in the prior year, if so, grab their donor tier\n",
    "        for customer in v.items():\n",
    "            tier = customer[1]\n",
    "            try:\n",
    "                py_tier = fy_all[k-1][customer[0]]\n",
    "            except:\n",
    "                py_tier = False\n",
    "                new_donors += 1\n",
    "\n",
    "            # If customer existed in py, add 1 to appropriate category\n",
    "            if py_tier:\n",
    "                if tier == py_tier:\n",
    "                    retained_donors += 1\n",
    "                elif tier > py_tier:\n",
    "                    upgraded_donors += 1\n",
    "                elif tier < py_tier:\n",
    "                    downgraded_donors += 1\n",
    "                else:\n",
    "                    raise Exception(\"Prior year tier is not an integer. Something happened.\")\n",
    "        \n",
    "        retention_dict['total'][k] += total_donors\n",
    "        retention_dict['retained'][k] += retained_donors\n",
    "        retention_dict['upgraded'][k] += upgraded_donors\n",
    "        retention_dict['downgraded'][k] += downgraded_donors\n",
    "        retention_dict['new'][k] += new_donors\n",
    "    \n",
    "    \n",
    "    # For attrition, we check if customer exists in following (next) year (ny)\n",
    "    attrition_dict = {fy: 0 for fy in df['fy'].drop_duplicates()}\n",
    "    \n",
    "    for k,v in fy_build.items():\n",
    "        lapsed = 0\n",
    "        \n",
    "        if k == 19:\n",
    "            continue\n",
    "        \n",
    "        total_donors = len(v)\n",
    "        \n",
    "        for cust_no, tier in v.items():     \n",
    "            if cust_no not in fy_all[k+1].keys():\n",
    "                lapsed += 1\n",
    "        \n",
    "        attrition_dict[k] = lapsed / total_donors\n",
    "    \n",
    "    return retention_dict, attrition_dict"
   ]
  },
  {
   "cell_type": "markdown",
   "metadata": {},
   "source": [
    "### Execute the function with the desired parameters"
   ]
  },
  {
   "cell_type": "code",
   "execution_count": 1036,
   "metadata": {},
   "outputs": [],
   "source": [
    "ret_attr_summ = calc_retention(donors_retained_df, tier='all')"
   ]
  },
  {
   "cell_type": "code",
   "execution_count": 1037,
   "metadata": {},
   "outputs": [],
   "source": [
    "retention_df = pd.DataFrame(ret_attr_summ[0])\n",
    "retention_df.index.name='fy'"
   ]
  },
  {
   "cell_type": "code",
   "execution_count": 1038,
   "metadata": {},
   "outputs": [],
   "source": [
    "attrition = ret_attr_summ[1]"
   ]
  },
  {
   "cell_type": "markdown",
   "metadata": {},
   "source": [
    "### Retention Stacked Bar Plot"
   ]
  },
  {
   "cell_type": "markdown",
   "metadata": {},
   "source": [
    "Determine y tick labels"
   ]
  },
  {
   "cell_type": "code",
   "execution_count": 1039,
   "metadata": {},
   "outputs": [],
   "source": [
    "y_tick_sep = 500"
   ]
  },
  {
   "cell_type": "code",
   "execution_count": 1040,
   "metadata": {},
   "outputs": [],
   "source": [
    "max_y_tick = math.ceil(max(\n",
    "    retention_df[['retained','upgraded','downgraded','new']].sum(axis=1)\n",
    ") / y_tick_sep) * y_tick_sep"
   ]
  },
  {
   "cell_type": "code",
   "execution_count": 1041,
   "metadata": {},
   "outputs": [],
   "source": [
    "y_ticks = list(range(0, max_y_tick+1, y_tick_sep))"
   ]
  },
  {
   "cell_type": "markdown",
   "metadata": {},
   "source": [
    "Plot"
   ]
  },
  {
   "cell_type": "code",
   "execution_count": 1042,
   "metadata": {},
   "outputs": [
    {
     "data": {
      "image/png": "[encoded data removed]",
      "text/plain": [
       "<Figure size 1080x720 with 1 Axes>"
      ]
     },
     "metadata": {
      "needs_background": "light"
     },
     "output_type": "display_data"
    }
   ],
   "source": [
    "# Plot setup\n",
    "fig, ax = plt.subplots(figsize=(15,10))\n",
    "\n",
    "# Create the plot\n",
    "retention_df[['retained','upgraded','downgraded','new']].plot(ax=ax, kind='bar', stacked=True)\n",
    "\n",
    "# Legend\n",
    "ax.legend(prop={'size': 15})\n",
    "\n",
    "# titles\n",
    "ax.set_title(\"Retention Graph YoY\", fontsize=30)\n",
    "\n",
    "# axes\n",
    "ax.set_xlabel('Fiscal Year', fontsize=20)\n",
    "ax.set_xticklabels(retention_df.index.values, rotation=0)\n",
    "ax.set_ylabel('Number of Donors', fontsize=20)\n",
    "\n",
    "ax.tick_params(axis='both', labelsize=16)\n",
    "\n",
    "# Show plot\n",
    "plt.show()"
   ]
  },
  {
   "cell_type": "markdown",
   "metadata": {},
   "source": [
    "### Attrition"
   ]
  },
  {
   "cell_type": "markdown",
   "metadata": {},
   "source": [
    "Remove FY10 and organize by fiscal year and value as separate lists"
   ]
  },
  {
   "cell_type": "code",
   "execution_count": 1043,
   "metadata": {},
   "outputs": [],
   "source": [
    "# Attrition over time graph\n",
    "attrition_lists = sorted(attrition.items())[:-1]\n",
    "att_fy, att_val = zip(*attrition_lists)"
   ]
  },
  {
   "cell_type": "markdown",
   "metadata": {},
   "source": [
    "Plot"
   ]
  },
  {
   "cell_type": "code",
   "execution_count": 1044,
   "metadata": {
    "scrolled": false
   },
   "outputs": [
    {
     "data": {
      "image/png": "[encoded data removed]",
      "text/plain": [
       "<Figure size 1080x720 with 1 Axes>"
      ]
     },
     "metadata": {
      "needs_background": "light"
     },
     "output_type": "display_data"
    }
   ],
   "source": [
    "# Plot setup\n",
    "fig, ax = plt.subplots(figsize=(15,10))\n",
    "\n",
    "# Create the plot\n",
    "ax.plot(att_fy, att_val)\n",
    "\n",
    "# Title\n",
    "ax.set_title(\"Percentage of Attrition YoY\", fontsize=30)\n",
    "\n",
    "# Axes\n",
    "ax.tick_params(axis='both', labelsize=16)\n",
    "\n",
    "ax.set_xlabel('Fiscal Year', fontsize=20)\n",
    "ax.set_ylabel('Percentage Lapsed', fontsize=20)\n",
    "\n",
    "vals = ax.get_yticks()\n",
    "ax.set_yticklabels(['{:,.0%}'.format(x) for x in vals])\n",
    "\n",
    "plt.show()"
   ]
  },
  {
   "cell_type": "code",
   "execution_count": null,
   "metadata": {},
   "outputs": [],
   "source": []
  },
  {
   "cell_type": "code",
   "execution_count": null,
   "metadata": {},
   "outputs": [],
   "source": []
  },
  {
   "cell_type": "code",
   "execution_count": null,
   "metadata": {},
   "outputs": [],
   "source": []
  },
  {
   "cell_type": "code",
   "execution_count": null,
   "metadata": {},
   "outputs": [],
   "source": []
  },
  {
   "cell_type": "code",
   "execution_count": null,
   "metadata": {},
   "outputs": [],
   "source": []
  }
 ],
 "metadata": {
  "kernelspec": {
   "display_name": "Python 3",
   "language": "python",
   "name": "python3"
  },
  "language_info": {
   "codemirror_mode": {
    "name": "ipython",
    "version": 3
   },
   "file_extension": ".py",
   "mimetype": "text/x-python",
   "name": "python",
   "nbconvert_exporter": "python",
   "pygments_lexer": "ipython3",
   "version": "3.7.3"
  }
 },
 "nbformat": 4,
 "nbformat_minor": 2
}
